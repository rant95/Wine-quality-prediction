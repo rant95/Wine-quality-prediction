{
  "nbformat": 4,
  "nbformat_minor": 0,
  "metadata": {
    "colab": {
      "name": "Prediction Wine of quality.ipynb",
      "provenance": [],
      "collapsed_sections": [],
      "include_colab_link": true
    },
    "kernelspec": {
      "name": "python3",
      "display_name": "Python 3"
    }
  },
  "cells": [
    {
      "cell_type": "markdown",
      "metadata": {
        "id": "view-in-github",
        "colab_type": "text"
      },
      "source": [
        "<a href=\"https://colab.research.google.com/github/rant95/Wine-quality-prediction/blob/main/Prediction_Wine_of_quality.ipynb\" target=\"_parent\"><img src=\"https://colab.research.google.com/assets/colab-badge.svg\" alt=\"Open In Colab\"/></a>"
      ]
    },
    {
      "cell_type": "markdown",
      "metadata": {
        "id": "02hyCblaaiPq"
      },
      "source": [
        "# Prediction Wine of quality\n",
        "\n",
        "\n",
        "---\n",
        "Lova Rantoanison\n",
        "\n",
        "\n",
        "---\n",
        "Febr 2019\n"
      ]
    },
    {
      "cell_type": "code",
      "metadata": {
        "id": "cA1SdURCyioT",
        "outputId": "8ed29334-cbc1-4b13-edf3-56af3f3792a9",
        "colab": {
          "base_uri": "https://localhost:8080/",
          "height": 125
        }
      },
      "source": [
        "from google.colab import drive\n",
        "drive.mount('/content/drive')"
      ],
      "execution_count": null,
      "outputs": [
        {
          "output_type": "stream",
          "text": [
            "Go to this URL in a browser: https://accounts.google.com/o/oauth2/auth?client_id=947318989803-6bn6qk8qdgf4n4g3pfee6491hc0brc4i.apps.googleusercontent.com&redirect_uri=urn%3aietf%3awg%3aoauth%3a2.0%3aoob&response_type=code&scope=email%20https%3a%2f%2fwww.googleapis.com%2fauth%2fdocs.test%20https%3a%2f%2fwww.googleapis.com%2fauth%2fdrive%20https%3a%2f%2fwww.googleapis.com%2fauth%2fdrive.photos.readonly%20https%3a%2f%2fwww.googleapis.com%2fauth%2fpeopleapi.readonly\n",
            "\n",
            "Enter your authorization code:\n",
            "··········\n",
            "Mounted at /content/drive\n"
          ],
          "name": "stdout"
        }
      ]
    },
    {
      "cell_type": "markdown",
      "metadata": {
        "id": "tcjYqWlsywKT"
      },
      "source": [
        "# Introduction\n",
        "\n",
        "L'objectif est de déterminer la qualité d’un vin (de 0 = très mauvais à 10 = exceptionnel) à partir de mesures physico-chimiques.\n",
        "\n",
        "Détails : *http://archive.ics.uci.edu/ml/datasets/Wine+Quality*\n",
        "\n",
        "On part du principe que si deux vins différents ont la même composition, leurs qualités gustatives seront identiques. Dans la base de données il y a 6 400 vins rouges et blancs provenant du Portugal. Si un vin inconnu a une composition identique à l’un des 6400 vins répertoriés, on peut supposer qu’il obtiendra la même note.\n",
        "\n",
        "Avec les algorithmes d'apprentissage utilisés en RCP209, je vais proposer une façon de construire une note pour une composition nouvelle. Je vais donc faire une prédiction et avec le savoir accumulé sur 6400 vins, je vais tenter de prédire ou estimer la note.\n",
        "\n",
        "Voici le jeu de données qui contient 6497 vins et 13 variables dont 1 variables quantitative illustrative et 1 variables qualitative illustrative."
      ]
    },
    {
      "cell_type": "code",
      "metadata": {
        "id": "pgg4WYPtyu8d"
      },
      "source": [
        "#Importing required packages.\n",
        "import pandas as pd\n",
        "import seaborn as sns\n",
        "import matplotlib.pyplot as plt\n",
        "\n",
        "from sklearn.svm import SVC\n",
        "from sklearn.linear_model import SGDClassifier\n",
        "from sklearn.metrics import confusion_matrix, classification_report\n",
        "from sklearn.preprocessing import StandardScaler, LabelEncoder\n",
        "from sklearn.model_selection import train_test_split, GridSearchCV, cross_val_score\n",
        "from sklearn import metrics\n",
        "import numpy as np\n",
        "import imp\n",
        "from sklearn.neighbors import KNeighborsRegressor\n",
        "from sklearn.decomposition import PCA\n",
        "from sklearn.preprocessing import normalize\n",
        "import matplotlib.colors as colors\n",
        "import matplotlib.cm as cmx\n",
        "from sklearn.linear_model import LogisticRegression\n",
        "from sklearn.metrics import confusion_matrix, accuracy_score\n",
        "\n",
        "from sklearn.ensemble import RandomForestClassifier\n",
        "from sklearn.svm import SVC\n",
        "from sklearn.metrics import confusion_matrix, classification_report\n",
        "from sklearn.model_selection import train_test_split, GridSearchCV, cross_val_score, RandomizedSearchCV\n",
        "\n",
        "from scipy.stats import uniform\n",
        "from scipy.stats import norm\n",
        "import encodings\n"
      ],
      "execution_count": null,
      "outputs": []
    },
    {
      "cell_type": "markdown",
      "metadata": {
        "id": "C_7zN_6R0K8m"
      },
      "source": [
        "#1.Import the dataset"
      ]
    },
    {
      "cell_type": "code",
      "metadata": {
        "id": "5T9Wca7K0A97",
        "outputId": "3778a9e4-838c-4995-f9dd-3d65879f3a40",
        "colab": {
          "base_uri": "https://localhost:8080/",
          "height": 372
        }
      },
      "source": [
        "# import the dataset\n",
        "\n",
        "df_red = pd.read_csv('/content/drive/My Drive/Colab Notebooks/Wine/winequality-red.csv', sep=';')\n",
        "\n",
        "df_red.head(10)\n",
        "df_red.describe()\n",
        "\n",
        "df_white = pd.read_csv('/content/drive/My Drive/Colab Notebooks/Wine/winequality-white.csv', sep=';')\n",
        "df_white.info()\n",
        "df_white.head(10)\n",
        "df_white.describe()\n",
        "\n",
        "df_white['color'] = \"W\"\n",
        "\n",
        "df_red['color'] = \"R\"\n",
        "df = pd.concat([df_red, df_white])\n",
        "df.head(10)\n",
        "df[\"color\"].value_counts() "
      ],
      "execution_count": null,
      "outputs": [
        {
          "output_type": "stream",
          "text": [
            "<class 'pandas.core.frame.DataFrame'>\n",
            "RangeIndex: 4898 entries, 0 to 4897\n",
            "Data columns (total 12 columns):\n",
            "fixed acidity           4898 non-null float64\n",
            "volatile acidity        4898 non-null float64\n",
            "citric acid             4898 non-null float64\n",
            "residual sugar          4898 non-null float64\n",
            "chlorides               4898 non-null float64\n",
            "free sulfur dioxide     4898 non-null float64\n",
            "total sulfur dioxide    4898 non-null float64\n",
            "density                 4898 non-null float64\n",
            "pH                      4898 non-null float64\n",
            "sulphates               4898 non-null float64\n",
            "alcohol                 4898 non-null float64\n",
            "quality                 4898 non-null int64\n",
            "dtypes: float64(11), int64(1)\n",
            "memory usage: 459.3 KB\n"
          ],
          "name": "stdout"
        },
        {
          "output_type": "execute_result",
          "data": {
            "text/plain": [
              "W    4898\n",
              "R    1599\n",
              "Name: color, dtype: int64"
            ]
          },
          "metadata": {
            "tags": []
          },
          "execution_count": 3
        }
      ]
    },
    {
      "cell_type": "code",
      "metadata": {
        "id": "LZHtUCt70BjJ",
        "outputId": "bf365786-fbeb-4519-d72f-ac987abc49fe",
        "colab": {
          "base_uri": "https://localhost:8080/",
          "height": 247
        }
      },
      "source": [
        "\n",
        "vins=df\n",
        "\n",
        "print(vins.describe())\n",
        "\n",
        "X = vins.drop(['quality','color'],axis=1)\n",
        "Y = vins['quality']\n",
        "\n",
        "\n",
        "vins[\"color\"].value_counts()\n",
        "\n",
        "print(len(vins[vins.color == 'W']), \"vins Blanc\")\n",
        "print(len(vins[vins.color == 'R']), \"vins Rouge\")"
      ],
      "execution_count": null,
      "outputs": [
        {
          "output_type": "stream",
          "text": [
            "       fixed acidity  volatile acidity  ...      alcohol      quality\n",
            "count    6497.000000       6497.000000  ...  6497.000000  6497.000000\n",
            "mean        7.215307          0.339666  ...    10.491801     5.818378\n",
            "std         1.296434          0.164636  ...     1.192712     0.873255\n",
            "min         3.800000          0.080000  ...     8.000000     3.000000\n",
            "25%         6.400000          0.230000  ...     9.500000     5.000000\n",
            "50%         7.000000          0.290000  ...    10.300000     6.000000\n",
            "75%         7.700000          0.400000  ...    11.300000     6.000000\n",
            "max        15.900000          1.580000  ...    14.900000     9.000000\n",
            "\n",
            "[8 rows x 12 columns]\n",
            "4898 vins Blanc\n",
            "1599 vins Rouge\n"
          ],
          "name": "stdout"
        }
      ]
    },
    {
      "cell_type": "markdown",
      "metadata": {
        "id": "stEyPEpX0pzL"
      },
      "source": [
        "On dispose de plusieurs milliers de notes données par des experts à des milliers de vins dont on connaît les mêmes 12 informations sur leur composition, ci-dessous, pour deux vins.\n",
        "Comme nous avons beaucoup de vins du très bon aux très mauvais, nous allons vérifier si les notes sont distribuées de façon non uniforme.\n",
        "\n",
        "#2.Distribution des notes des vins"
      ]
    },
    {
      "cell_type": "code",
      "metadata": {
        "id": "acZIOBKt0B0g",
        "outputId": "981b532e-26d4-4b4d-97a9-9fdd2964864e",
        "colab": {
          "base_uri": "https://localhost:8080/",
          "height": 281
        }
      },
      "source": [
        "\n",
        "plt.close('all')\n",
        "#plt.style.use('ggplot')\n",
        "fig, ax = plt.subplots(nrows=1, ncols=1, figsize=(10,4))\n",
        "vins.quality.hist(bins=18, ax=ax)\n",
        "plt.title('Distribution des notes des vins')\n",
        "plt.show()"
      ],
      "execution_count": null,
      "outputs": [
        {
          "output_type": "display_data",
          "data": {
            "image/png": "[encoded data removed]",
            "text/plain": [
              "<Figure size 720x288 with 1 Axes>"
            ]
          },
          "metadata": {
            "tags": []
          }
        }
      ]
    },
    {
      "cell_type": "markdown",
      "metadata": {
        "id": "mBZWdNOt01Q7"
      },
      "source": [
        "Les vins avec une note de 3 et 9 sont peu représentés avec seulement 5-10 echantillions, ce qui risque de poser un peu de problème de sur apprentissage.\n",
        "\n",
        "Nous examiner les caractéristiques des variables et surtout les relations entre ces variables. Pour cela on utilise une méthode d”analyse factorielle pour mettre en évidence des relations entre les variables quantitatives (mesures physico-chimique) et la variable quantitative illustrative \"quality\".\n",
        "\n",
        "Nous allons lancer une analyse en composante principale (ACP) pour représenter un ensemble de points dans un espace de dimension.\n",
        "## Analyse en composante principale ACP"
      ]
    },
    {
      "cell_type": "code",
      "metadata": {
        "id": "l2dPJ7x00CJR",
        "outputId": "bb78b6f2-8882-4570-9d38-fd3cfc065794",
        "colab": {
          "base_uri": "https://localhost:8080/",
          "height": 223
        }
      },
      "source": [
        "pca = PCA(n_components=5)\n",
        "Xn = normalize(X)\n",
        "pca.fit(Xn)\n",
        "\n",
        "PCA(copy=True, iterated_power='auto', n_components=5, random_state=None,svd_solver='auto', tol=0.0, whiten=False)\n",
        "\n",
        "\n",
        "eig = pd.DataFrame(dict(valeur=pca.explained_variance_ratio_))\n",
        "ax = eig.plot(kind='bar', figsize=(3,3))\n",
        "ax.set_title(\"Valeur propres de l'ACP apres normalisation\");\n",
        "plt.show()"
      ],
      "execution_count": null,
      "outputs": [
        {
          "output_type": "display_data",
          "data": {
            "image/png": "[encoded data removed]",
            "text/plain": [
              "<Figure size 216x216 with 1 Axes>"
            ]
          },
          "metadata": {
            "tags": []
          }
        }
      ]
    },
    {
      "cell_type": "markdown",
      "metadata": {
        "id": "TDGq58MT268U"
      },
      "source": [
        "Nous avons les 2 premiers axes qui regroupent plus de 90% des informations.\n",
        "Regardons les coordonnées du premier v1 et deuxième v2 axe."
      ]
    },
    {
      "cell_type": "code",
      "metadata": {
        "id": "SX11QF3c08Ib",
        "outputId": "3e5c0baa-6339-4c95-9fd7-4ddcdc692349",
        "colab": {
          "base_uri": "https://localhost:8080/",
          "height": 364
        }
      },
      "source": [
        "v2 = pd.DataFrame(pca.components_[0:2,:]).T\n",
        "v2.index = vins.columns[:-2]\n",
        "v2.columns = ['v1', 'v2']\n",
        "\n",
        "ax = v2.plot(y=['v1', 'v2'], kind='bar', figsize=(10,4))\n",
        "ax.legend(loc='upper left')\n",
        "ax.set_title(\"Comparaison des coordonnees des deux premiers axes de l ACP\")\n",
        "\n",
        "\n",
        "plt.show()"
      ],
      "execution_count": null,
      "outputs": [
        {
          "output_type": "display_data",
          "data": {
            "image/png": "[encoded data removed]",
            "text/plain": [
              "<Figure size 720x288 with 1 Axes>"
            ]
          },
          "metadata": {
            "tags": []
          }
        }
      ]
    },
    {
      "cell_type": "markdown",
      "metadata": {
        "id": "BrxegbDH3CmF"
      },
      "source": [
        "On remarque que l’alcool, l’acidité, le dioxyde, le pH semble jouer un rôle plus grand que les autres variables"
      ]
    },
    {
      "cell_type": "code",
      "metadata": {
        "id": "NodOAi8w08c8",
        "outputId": "49c4bafd-902a-4949-af55-62b8f1d45bc8",
        "colab": {
          "base_uri": "https://localhost:8080/",
          "height": 273
        }
      },
      "source": [
        "proj = pca.transform(Xn)\n",
        "\n",
        "pl = pd.DataFrame(proj[:, :3])\n",
        "pl.columns = ['v1', 'v2', 'v3']\n",
        "wine = pd.read_csv('/content/drive/My Drive/Colab Notebooks/Wine/vinsquality.csv', sep=';')\n",
        "pl['quality'] = wine['quality']\n",
        "pl['color'] = wine['color']\n",
        "\n",
        "#Premier graphe selon les couleurs.\n",
        "\n",
        "ax = sns.lmplot(x=\"v1\", y=\"v2\", hue=\"color\", truncate=True, data=pl, scatter_kws={\"s\": 1}, fit_reg=False, size=3)\n",
        "ax.ax.set_title(\"Projection des vins sur les deux premiers axes de l ACP\");\n",
        "\n",
        "plt.show()"
      ],
      "execution_count": null,
      "outputs": [
        {
          "output_type": "stream",
          "text": [
            "/usr/local/lib/python3.6/dist-packages/seaborn/regression.py:546: UserWarning: The `size` paramter has been renamed to `height`; please update your code.\n",
            "  warnings.warn(msg, UserWarning)\n"
          ],
          "name": "stderr"
        },
        {
          "output_type": "display_data",
          "data": {
            "image/png": "[encoded data removed]",
            "text/plain": [
              "<Figure size 261.875x216 with 1 Axes>"
            ]
          },
          "metadata": {
            "tags": []
          }
        }
      ]
    },
    {
      "cell_type": "markdown",
      "metadata": {
        "id": "TfVvN1tT3HEN"
      },
      "source": [
        "Avec l'ACP on remarque avec le grahe que les vins blancs et rouges pourraient être différents chimiquement et qu'il y a une frontière entre les vins. Il est donc possible de prédire la couleur en fonction des données disponibles dans ce jeu de données via une classification. Cependant ce n'est pas l'objectif de se projet.\n",
        "\n",
        "On représente maintenant les notes des vins.\n",
        "##Représentations des notes des vins."
      ]
    },
    {
      "cell_type": "code",
      "metadata": {
        "id": "qbr_kjV33HYV",
        "outputId": "5f8eb1c8-92bd-4dd7-d1af-0e16c5007d81",
        "colab": {
          "base_uri": "https://localhost:8080/",
          "height": 294
        }
      },
      "source": [
        "fig, axs = plt.subplots(1, 3, figsize=(12,4))\n",
        "red = pl[pl.color == 'R']\n",
        "white = pl[pl.color == 'W']\n",
        "\n",
        "# Choisir un dégragé ici\n",
        "cmap = plt.get_cmap('plasma')\n",
        "cnorm = colors.Normalize(vmin=pl['quality'].min(), vmax=pl['quality'].max())\n",
        "scalar = cmx.ScalarMappable(norm=cnorm, cmap=cmap)\n",
        "\n",
        "for i, data, title in [(0, pl, 'tous'), (1, red, 'red'), (2, white, 'white')]:\n",
        "    ax = axs[i]\n",
        "    # On trace les points pour que le texte n'apparaissent pas en dehors des zones\n",
        "    pl.plot(x='v1', y='v2', kind='scatter', color=\"white\", ax=ax)\n",
        "\n",
        "    for note in sorted(set(data['quality'])):\n",
        "        sub = data[data.quality == note]\n",
        "        if sub.shape[0] > 100:\n",
        "            sub = sub.sample(n=30)\n",
        "\n",
        "        color = scalar.to_rgba(note)\n",
        "        for i, row in enumerate(sub.itertuples()):\n",
        "            ax.text(row[1], row[2], str(row[4]), color=color)\n",
        "    ax.set_title(title);\n",
        "    \n",
        "    \n",
        "plt.show()  "
      ],
      "execution_count": null,
      "outputs": [
        {
          "output_type": "display_data",
          "data": {
            "image/png": "[encoded data removed]",
            "text/plain": [
              "<Figure size 864x288 with 3 Axes>"
            ]
          },
          "metadata": {
            "tags": []
          }
        }
      ]
    },
    {
      "cell_type": "markdown",
      "metadata": {
        "id": "Wcvqy-2j3yEk"
      },
      "source": [
        "Les vins rouges et blancs apparaissent comme très différents, cela vaudra sans doute le coup de faire deux modèles si la performance n’est pas assez bonne. Les bonnes notes ne se détache pas particulièremnt sur ces graphes. Le problème est peut-être simple mais ce ne sont pas ces graphes qui vont nous le dire.\n",
        "\n",
        "Nous allons voir plus en détails les relations entre les variables avec une analyse plus poussée de l'ACP via la programation sur R en annexe.\n",
        "\n",
        "\n",
        "Maintenant on va choisir quel algorithme est le plus précis pour prédire la note d'un vin. Nous allons tester 6 algorithmes pour avoir la meilleure prédiction possible.\n",
        "\n",
        "\n",
        "*1.Random Forests*\n",
        "\n",
        "*2.Logistic Regression*\n",
        "\n",
        "*3.Stochastic Gradient Decent Classifier*\n",
        "\n",
        "*4.Decision Trees*\n",
        "\n",
        "*5.SVM*\n",
        "\n",
        "*6.Plus proche voisins knn*\n",
        "\n",
        "\n",
        "\n",
        "\n",
        "Voici les algorithmes que nous allons tester avec des hyperparametres par défaut.\n",
        "\n",
        "#3.Les modèles d'algorithmes\n",
        "\n",
        "\n",
        "## Découpage des jeux de données training et Testing"
      ]
    },
    {
      "cell_type": "code",
      "metadata": {
        "id": "AKM7t9rY3Hpl"
      },
      "source": [
        "#Now seperate the dataset as response variable and feature variabes\n",
        "X = vins.drop(['quality','color'], axis = 1)\n",
        "y = vins['quality']\n",
        "\n",
        "#Train and Test splitting of data\n",
        "X_train, X_test, y_train, y_test = train_test_split(X, y, test_size = 0.2, random_state = 42)\n",
        "#Applying Standard scaling to get optimized result\n",
        "sc = StandardScaler()\n",
        "\n",
        "X_train = sc.fit_transform(X_train)\n",
        "X_test = sc.fit_transform(X_test)"
      ],
      "execution_count": null,
      "outputs": []
    },
    {
      "cell_type": "markdown",
      "metadata": {
        "id": "3prXa6-b3_W7"
      },
      "source": [
        "Nous allons d'abord diviser les données en deux. 80% de des données iront dans la partie training pour entrainer le modèle et les 20% restants des données iront dans la partie test pour la validation  du modèle.\n",
        "## 1.Random Forest Classifier"
      ]
    },
    {
      "cell_type": "code",
      "metadata": {
        "id": "Q_203pAu3H4M",
        "outputId": "17666214-c85a-433f-80f5-b033038d8845",
        "colab": {
          "base_uri": "https://localhost:8080/",
          "height": 374
        }
      },
      "source": [
        "rfc = RandomForestClassifier()\n",
        "rfc.fit(X_train, y_train)\n",
        "pred_rfc = rfc.predict(X_test)\n",
        "\n",
        "#Let's see how our model performed\n",
        "print(classification_report(y_test, pred_rfc))\n",
        "print (\"Overall Accuracy:\", round(metrics.accuracy_score(y_test, pred_rfc), 3))\n",
        "rfc_defaut=round(metrics.accuracy_score(y_test, pred_rfc), 3)"
      ],
      "execution_count": null,
      "outputs": [
        {
          "output_type": "stream",
          "text": [
            "              precision    recall  f1-score   support\n",
            "\n",
            "           3       0.00      0.00      0.00         6\n",
            "           4       0.29      0.05      0.08        43\n",
            "           5       0.60      0.72      0.66       402\n",
            "           6       0.63      0.67      0.65       597\n",
            "           7       0.63      0.48      0.55       215\n",
            "           8       0.80      0.22      0.35        36\n",
            "           9       0.00      0.00      0.00         1\n",
            "\n",
            "    accuracy                           0.62      1300\n",
            "   macro avg       0.42      0.31      0.33      1300\n",
            "weighted avg       0.61      0.62      0.60      1300\n",
            "\n",
            "Overall Accuracy: 0.617\n"
          ],
          "name": "stdout"
        },
        {
          "output_type": "stream",
          "text": [
            "/usr/local/lib/python3.6/dist-packages/sklearn/ensemble/forest.py:245: FutureWarning: The default value of n_estimators will change from 10 in version 0.20 to 100 in 0.22.\n",
            "  \"10 in version 0.20 to 100 in 0.22.\", FutureWarning)\n",
            "/usr/local/lib/python3.6/dist-packages/sklearn/metrics/classification.py:1437: UndefinedMetricWarning: Precision and F-score are ill-defined and being set to 0.0 in labels with no predicted samples.\n",
            "  'precision', 'predicted', average, warn_for)\n"
          ],
          "name": "stderr"
        }
      ]
    },
    {
      "cell_type": "markdown",
      "metadata": {
        "id": "kyMaUoov4P2j"
      },
      "source": [
        "## 2.Logistic Regression"
      ]
    },
    {
      "cell_type": "code",
      "metadata": {
        "id": "UKU_SNij4ABK",
        "outputId": "03bca4bd-7ea7-409e-be05-f53c14aa8ed0",
        "colab": {
          "base_uri": "https://localhost:8080/",
          "height": 410
        }
      },
      "source": [
        "lr = LogisticRegression()\n",
        "lr.fit(X_train, y_train)\n",
        "pred_lr = lr.predict(X_test)\n",
        "#Let's see how our model performed\n",
        "print(classification_report(y_test, pred_lr))\n",
        "print (\"Overall Accuracy:\", round(metrics.accuracy_score(y_test, pred_lr), 3))"
      ],
      "execution_count": null,
      "outputs": [
        {
          "output_type": "stream",
          "text": [
            "              precision    recall  f1-score   support\n",
            "\n",
            "           3       0.00      0.00      0.00         6\n",
            "           4       0.00      0.00      0.00        43\n",
            "           5       0.53      0.61      0.57       402\n",
            "           6       0.52      0.69      0.60       597\n",
            "           7       0.48      0.12      0.19       215\n",
            "           8       0.00      0.00      0.00        36\n",
            "           9       0.00      0.00      0.00         1\n",
            "\n",
            "    accuracy                           0.52      1300\n",
            "   macro avg       0.22      0.20      0.19      1300\n",
            "weighted avg       0.48      0.52      0.48      1300\n",
            "\n",
            "Overall Accuracy: 0.524\n"
          ],
          "name": "stdout"
        },
        {
          "output_type": "stream",
          "text": [
            "/usr/local/lib/python3.6/dist-packages/sklearn/linear_model/logistic.py:432: FutureWarning: Default solver will be changed to 'lbfgs' in 0.22. Specify a solver to silence this warning.\n",
            "  FutureWarning)\n",
            "/usr/local/lib/python3.6/dist-packages/sklearn/linear_model/logistic.py:469: FutureWarning: Default multi_class will be changed to 'auto' in 0.22. Specify the multi_class option to silence this warning.\n",
            "  \"this warning.\", FutureWarning)\n",
            "/usr/local/lib/python3.6/dist-packages/sklearn/metrics/classification.py:1437: UndefinedMetricWarning: Precision and F-score are ill-defined and being set to 0.0 in labels with no predicted samples.\n",
            "  'precision', 'predicted', average, warn_for)\n"
          ],
          "name": "stderr"
        }
      ]
    },
    {
      "cell_type": "markdown",
      "metadata": {
        "id": "wOIAfJoR4RGL"
      },
      "source": [
        "## 3.Stochastic Gradient Decent Classifier"
      ]
    },
    {
      "cell_type": "code",
      "metadata": {
        "id": "FbFiT3J14ARy",
        "outputId": "87686f64-308e-44e9-f076-baaee05f3f91",
        "colab": {
          "base_uri": "https://localhost:8080/",
          "height": 338
        }
      },
      "source": [
        "\n",
        "sgd = SGDClassifier(penalty=None)\n",
        "sgd.fit(X_train, y_train)\n",
        "pred_sgd = sgd.predict(X_test)\n",
        "print(classification_report(y_test, pred_sgd))\n",
        "print (\"Overall Accuracy:\", round(metrics.accuracy_score(y_test, pred_sgd), 3))"
      ],
      "execution_count": null,
      "outputs": [
        {
          "output_type": "stream",
          "text": [
            "              precision    recall  f1-score   support\n",
            "\n",
            "           3       0.50      0.33      0.40         6\n",
            "           4       0.00      0.00      0.00        43\n",
            "           5       0.58      0.54      0.56       402\n",
            "           6       0.51      0.75      0.61       597\n",
            "           7       0.15      0.02      0.03       215\n",
            "           8       0.00      0.00      0.00        36\n",
            "           9       0.00      0.00      0.00         1\n",
            "\n",
            "    accuracy                           0.52      1300\n",
            "   macro avg       0.25      0.23      0.23      1300\n",
            "weighted avg       0.44      0.52      0.46      1300\n",
            "\n",
            "Overall Accuracy: 0.515\n"
          ],
          "name": "stdout"
        },
        {
          "output_type": "stream",
          "text": [
            "/usr/local/lib/python3.6/dist-packages/sklearn/metrics/classification.py:1437: UndefinedMetricWarning: Precision and F-score are ill-defined and being set to 0.0 in labels with no predicted samples.\n",
            "  'precision', 'predicted', average, warn_for)\n"
          ],
          "name": "stderr"
        }
      ]
    },
    {
      "cell_type": "markdown",
      "metadata": {
        "id": "eSlw79nd4R8L"
      },
      "source": [
        "## 4.Decision Trees"
      ]
    },
    {
      "cell_type": "code",
      "metadata": {
        "id": "6qJWjkzO4Afy",
        "outputId": "bec18638-9774-4f99-c064-42fb196b2f33",
        "colab": {
          "base_uri": "https://localhost:8080/",
          "height": 283
        }
      },
      "source": [
        "from sklearn.tree import DecisionTreeClassifier\n",
        "dt = DecisionTreeClassifier()\n",
        "dt.fit(X_train,y_train)\n",
        "pred_dt = dt.predict(X_test)\n",
        "print(classification_report(y_test, pred_dt))\n",
        "print (\"Overall Accuracy:\", round(metrics.accuracy_score(y_test, pred_dt), 3))"
      ],
      "execution_count": null,
      "outputs": [
        {
          "output_type": "stream",
          "text": [
            "              precision    recall  f1-score   support\n",
            "\n",
            "           3       0.00      0.00      0.00         6\n",
            "           4       0.18      0.16      0.17        43\n",
            "           5       0.55      0.60      0.57       402\n",
            "           6       0.61      0.57      0.59       597\n",
            "           7       0.48      0.49      0.49       215\n",
            "           8       0.29      0.31      0.30        36\n",
            "           9       0.00      0.00      0.00         1\n",
            "\n",
            "    accuracy                           0.54      1300\n",
            "   macro avg       0.30      0.30      0.30      1300\n",
            "weighted avg       0.54      0.54      0.54      1300\n",
            "\n",
            "Overall Accuracy: 0.542\n"
          ],
          "name": "stdout"
        }
      ]
    },
    {
      "cell_type": "markdown",
      "metadata": {
        "id": "FG7XERUT4fZM"
      },
      "source": [
        "## 5.SVM"
      ]
    },
    {
      "cell_type": "code",
      "metadata": {
        "id": "AaP32DV14AuC",
        "outputId": "6d8a8398-42d7-4179-90ed-384753e73021",
        "colab": {
          "base_uri": "https://localhost:8080/",
          "height": 338
        }
      },
      "source": [
        "svc = SVC()\n",
        "svc.fit(X_train, y_train)\n",
        "pred_svc = svc.predict(X_test)\n",
        "print(classification_report(y_test, pred_svc))\n",
        "print (\"Overall Accuracy:\", round(metrics.accuracy_score(y_test, pred_svc), 3))\n",
        "svc_defaut=round(metrics.accuracy_score(y_test, pred_svc), 3)"
      ],
      "execution_count": null,
      "outputs": [
        {
          "output_type": "stream",
          "text": [
            "              precision    recall  f1-score   support\n",
            "\n",
            "           3       0.00      0.00      0.00         6\n",
            "           4       0.00      0.00      0.00        43\n",
            "           5       0.58      0.65      0.61       402\n",
            "           6       0.55      0.72      0.62       597\n",
            "           7       0.61      0.19      0.29       215\n",
            "           8       0.00      0.00      0.00        36\n",
            "           9       0.00      0.00      0.00         1\n",
            "\n",
            "    accuracy                           0.56      1300\n",
            "   macro avg       0.25      0.22      0.22      1300\n",
            "weighted avg       0.53      0.56      0.52      1300\n",
            "\n",
            "Overall Accuracy: 0.562\n"
          ],
          "name": "stdout"
        },
        {
          "output_type": "stream",
          "text": [
            "/usr/local/lib/python3.6/dist-packages/sklearn/metrics/classification.py:1437: UndefinedMetricWarning: Precision and F-score are ill-defined and being set to 0.0 in labels with no predicted samples.\n",
            "  'precision', 'predicted', average, warn_for)\n"
          ],
          "name": "stderr"
        }
      ]
    },
    {
      "cell_type": "markdown",
      "metadata": {
        "id": "_cMWMe3R4jqv"
      },
      "source": [
        "## 6.Plus proche voisins knn"
      ]
    },
    {
      "cell_type": "code",
      "metadata": {
        "id": "1mUcJX4p4j7N"
      },
      "source": [
        "knn = KNeighborsRegressor(n_neighbors=1)\n",
        "knn.fit(X_train, y_train)\n",
        "pred_knn = svc.predict(X_test)"
      ],
      "execution_count": null,
      "outputs": []
    },
    {
      "cell_type": "code",
      "metadata": {
        "id": "UiWK_JWN4kfm",
        "outputId": "37d7538c-b1ff-494c-cd90-bfebc50bb13d",
        "colab": {
          "base_uri": "https://localhost:8080/",
          "height": 338
        }
      },
      "source": [
        "print(classification_report(y_test, pred_knn))\n",
        "print (\"Overall Accuracy:\", round(metrics.accuracy_score(y_test, pred_knn), 3))"
      ],
      "execution_count": null,
      "outputs": [
        {
          "output_type": "stream",
          "text": [
            "              precision    recall  f1-score   support\n",
            "\n",
            "           3       0.00      0.00      0.00         6\n",
            "           4       0.00      0.00      0.00        43\n",
            "           5       0.58      0.65      0.61       402\n",
            "           6       0.55      0.72      0.62       597\n",
            "           7       0.61      0.19      0.29       215\n",
            "           8       0.00      0.00      0.00        36\n",
            "           9       0.00      0.00      0.00         1\n",
            "\n",
            "    accuracy                           0.56      1300\n",
            "   macro avg       0.25      0.22      0.22      1300\n",
            "weighted avg       0.53      0.56      0.52      1300\n",
            "\n",
            "Overall Accuracy: 0.562\n"
          ],
          "name": "stdout"
        },
        {
          "output_type": "stream",
          "text": [
            "/usr/local/lib/python3.6/dist-packages/sklearn/metrics/classification.py:1437: UndefinedMetricWarning: Precision and F-score are ill-defined and being set to 0.0 in labels with no predicted samples.\n",
            "  'precision', 'predicted', average, warn_for)\n"
          ],
          "name": "stderr"
        }
      ]
    },
    {
      "cell_type": "markdown",
      "metadata": {
        "id": "oc0V0wPM4kNJ"
      },
      "source": [
        "Nous avons trouver que l'algorithme le plus précis est les forets aléatoire avec 0.64% de précision. Puis nous avons les algorithmes arbre de décision, SVM et les plus proche voisins avec 0.56% de precision pour prédire les notes.\n",
        "Nous allons selectionner et valider les hyperparametres.\n",
        "\n",
        "\n",
        "#4.Selection/validation des hyperparameters\n",
        "\n",
        "\n",
        "## Hyperparameters pour les Forets aléatoires"
      ]
    },
    {
      "cell_type": "code",
      "metadata": {
        "id": "VTACm0mb41S2",
        "outputId": "81515688-e654-4b97-8bb3-84c439178171",
        "colab": {
          "base_uri": "https://localhost:8080/",
          "height": 34
        }
      },
      "source": [
        "# Designate distributions to sample hyperparameters from\n",
        "n_estimators = np.random.uniform(70, 80, 5).astype(int)\n",
        "max_features = np.random.normal(6, 3, 5).astype(int)\n",
        "\n",
        "# Check max_features>0 & max_features<=total number of features\n",
        "max_features[max_features <= 0] = 1\n",
        "max_features[max_features > X.shape[1]] = X.shape[1]\n",
        "\n",
        "hyperparameters = {'n_estimators': list(n_estimators),\n",
        "                   'max_features': list(max_features)}\n",
        "\n",
        "print (hyperparameters)"
      ],
      "execution_count": null,
      "outputs": [
        {
          "output_type": "stream",
          "text": [
            "{'n_estimators': [73, 73, 77, 78, 72], 'max_features': [9, 1, 2, 6, 6]}\n"
          ],
          "name": "stdout"
        }
      ]
    },
    {
      "cell_type": "markdown",
      "metadata": {
        "id": "kSHRZqN940ph"
      },
      "source": [
        "On va sélectionner ces hyperparametres pour l'optimisation de l'algorithme avec RandomizedSearchCV qui est plus rapide en execution que GridSearchCV.\n",
        "\n",
        "## Randomized search using cross-validation pour les Forets aléatoires"
      ]
    },
    {
      "cell_type": "code",
      "metadata": {
        "id": "wfPA7tYp4kud",
        "outputId": "bcd95069-9e5d-4df0-a820-7baf9486739b",
        "colab": {
          "base_uri": "https://localhost:8080/",
          "height": 107
        }
      },
      "source": [
        "# Run randomized search\n",
        "randomCV = RandomizedSearchCV(RandomForestClassifier(), param_distributions=hyperparameters, n_iter=20)\n",
        "randomCV.fit(X_train, y_train)\n",
        "\n",
        "# Identify optimal hyperparameter values\n",
        "best_n_estim      = randomCV.best_params_['n_estimators']\n",
        "best_max_features = randomCV.best_params_['max_features']\n",
        "\n",
        "print(\"The best performing n_estimators value is: {:5d}\".format(best_n_estim))\n",
        "print(\"The best performing max_features value is: {:5d}\".format(best_max_features))"
      ],
      "execution_count": null,
      "outputs": [
        {
          "output_type": "stream",
          "text": [
            "/usr/local/lib/python3.6/dist-packages/sklearn/model_selection/_split.py:1978: FutureWarning: The default value of cv will change from 3 to 5 in version 0.22. Specify it explicitly to silence this warning.\n",
            "  warnings.warn(CV_WARNING, FutureWarning)\n"
          ],
          "name": "stderr"
        },
        {
          "output_type": "stream",
          "text": [
            "The best performing n_estimators value is:    77\n",
            "The best performing max_features value is:     2\n"
          ],
          "name": "stdout"
        }
      ]
    },
    {
      "cell_type": "markdown",
      "metadata": {
        "id": "RX8tQwbN40-O"
      },
      "source": [
        "On a trouvé les meilleurs hyperparametres donc on va pouvoir lancer l'apprentissage puis on va faire des tests sur les données.\n",
        "##Apprentissage optimal avec les nouveaux hyperparametres\n",
        "\n",
        "### L'algorithme RandomForestClassifier"
      ]
    },
    {
      "cell_type": "code",
      "metadata": {
        "id": "J88TKDaF4k81",
        "outputId": "08e5757c-51b3-454a-d3d0-60963bdd1d03",
        "colab": {
          "base_uri": "https://localhost:8080/",
          "height": 356
        }
      },
      "source": [
        "# Train classifier using optimal hyperparameter values\n",
        "# We could have also gotten this model out from randomCV.best_estimator_\n",
        "rfc2 = RandomForestClassifier(n_estimators=best_n_estim,\n",
        "                            max_features=best_max_features)\n",
        "\n",
        "rfc2.fit(X_train, y_train)\n",
        "rfc2_predictions = rfc2.predict(X_test)\n",
        "\n",
        "print (metrics.classification_report(y_test, rfc2_predictions))\n",
        "\n",
        "print (\"Overall Accuracy optimal:\", round(metrics.accuracy_score(y_test, rfc2_predictions), 3))\n",
        "print(\"Overall Accuracy par defaut :\",rfc_defaut)"
      ],
      "execution_count": null,
      "outputs": [
        {
          "output_type": "stream",
          "text": [
            "              precision    recall  f1-score   support\n",
            "\n",
            "           3       0.00      0.00      0.00         6\n",
            "           4       0.67      0.05      0.09        43\n",
            "           5       0.67      0.71      0.69       402\n",
            "           6       0.65      0.77      0.71       597\n",
            "           7       0.72      0.53      0.61       215\n",
            "           8       1.00      0.31      0.47        36\n",
            "           9       0.00      0.00      0.00         1\n",
            "\n",
            "    accuracy                           0.67      1300\n",
            "   macro avg       0.53      0.34      0.37      1300\n",
            "weighted avg       0.68      0.67      0.65      1300\n",
            "\n",
            "Overall Accuracy optimal: 0.669\n",
            "Overall Accuracy par defaut : 0.617\n"
          ],
          "name": "stdout"
        },
        {
          "output_type": "stream",
          "text": [
            "/usr/local/lib/python3.6/dist-packages/sklearn/metrics/classification.py:1437: UndefinedMetricWarning: Precision and F-score are ill-defined and being set to 0.0 in labels with no predicted samples.\n",
            "  'precision', 'predicted', average, warn_for)\n"
          ],
          "name": "stderr"
        }
      ]
    },
    {
      "cell_type": "markdown",
      "metadata": {
        "id": "4VhQR8W15DoA"
      },
      "source": [
        "On voit qu'il y a eu une amélioration de la précison avec les nouveau hyperparametres. Cependant nous avons encore une trop grande imprécison pour noter les vins surtout à cause des vins noté 9 ou nous avons que 5 echantillions sur les 6400 vins."
      ]
    },
    {
      "cell_type": "code",
      "metadata": {
        "id": "xL5EUXdi5DBB",
        "outputId": "44a938b2-2e41-4f48-e702-5327e2248e53",
        "colab": {
          "base_uri": "https://localhost:8080/",
          "height": 318
        }
      },
      "source": [
        "\n",
        "#converting the numpy array to list\n",
        "xRF=np.array(rfc2_predictions).tolist()\n",
        "\n",
        "#printing first 5 predictions\n",
        "print(\"\\nLa prediction pour random Forest:\\n\")\n",
        "\n",
        "for i in range(0,5):\n",
        "  print (xRF[i])\n",
        "    \n",
        "    \n",
        "\n",
        "#printing first five expectations\n",
        "print(\"\\nLes observations pour random Forest:\\n\")\n",
        "print (y_test.head())"
      ],
      "execution_count": null,
      "outputs": [
        {
          "output_type": "stream",
          "text": [
            "\n",
            "La prediction pour random Forest:\n",
            "\n",
            "6\n",
            "5\n",
            "7\n",
            "6\n",
            "5\n",
            "\n",
            "Les observations pour random Forest:\n",
            "\n",
            "1504    8\n",
            "1419    5\n",
            "3162    7\n",
            "3091    6\n",
            "2433    6\n",
            "Name: quality, dtype: int64\n"
          ],
          "name": "stdout"
        }
      ]
    },
    {
      "cell_type": "markdown",
      "metadata": {
        "id": "eght21QT5EIQ"
      },
      "source": [
        "On remarque que les notes prédites ne sont pas très fiables.\n",
        "\n",
        "\n",
        "\n",
        "Maintenant, on va faire un test sur l'algorithme SVM afin de voir si on peut améliorer la précision de la prédiction.\n",
        "## L'algorithme SVM\n"
      ]
    },
    {
      "cell_type": "code",
      "metadata": {
        "id": "70bteiJp5DRB",
        "outputId": "9a1c8fc4-8171-4ece-c9fb-cbedb51dc74f",
        "colab": {
          "base_uri": "https://localhost:8080/",
          "height": 54
        }
      },
      "source": [
        "# Designate distributions to sample hyperparameters from\n",
        "np.random.seed(123)\n",
        "g_range = np.random.uniform(0.0, 0.3, 5).astype(float)\n",
        "C_range = np.random.normal(1, 0.1, 5).astype(float)\n",
        "\n",
        "# Check that gamma>0 and C>0\n",
        "C_range[C_range < 0] = 0.0001\n",
        "\n",
        "hyperparameters = {'gamma': list(g_range),\n",
        "                    'C': list(C_range)}\n",
        "\n",
        "print (hyperparameters)"
      ],
      "execution_count": null,
      "outputs": [
        {
          "output_type": "stream",
          "text": [
            "{'gamma': [0.2089407556793585, 0.08584180048511383, 0.06805543606926093, 0.16539443072486737, 0.2158406909356689], 'C': [1.0322106068339623, 0.9948482279060615, 0.9795799035361106, 1.197934843277785, 0.8380699934963254]}\n"
          ],
          "name": "stdout"
        }
      ]
    },
    {
      "cell_type": "markdown",
      "metadata": {
        "id": "3x5PMvJx5h-a"
      },
      "source": [
        "## RandomizedSearchCV using cross-validation pour SVM\n",
        "\n",
        "On prendra l'algorithme SVM avec un noyau non linéaire pour cette prédiction et de type radial basis function car il est très populaire."
      ]
    },
    {
      "cell_type": "code",
      "metadata": {
        "id": "S2xq1mtO5EZg",
        "outputId": "ea3bf806-f292-4592-ddf3-caab11ea1863",
        "colab": {
          "base_uri": "https://localhost:8080/",
          "height": 107
        }
      },
      "source": [
        "# Run randomized search\n",
        "randomCV = RandomizedSearchCV(SVC(kernel='rbf', ), param_distributions=hyperparameters, n_iter=20)\n",
        "randomCV.fit(X_train, y_train)\n",
        "\n",
        "# Identify optimal hyperparameter values\n",
        "best_gamma  = randomCV.best_params_['gamma']\n",
        "best_C      = randomCV.best_params_['C']\n",
        "\n",
        "print(\"The best performing gamma value is: {:5.2f}\".format(best_gamma))\n",
        "print(\"The best performing C value is: {:5.2f}\".format(best_C))"
      ],
      "execution_count": null,
      "outputs": [
        {
          "output_type": "stream",
          "text": [
            "/usr/local/lib/python3.6/dist-packages/sklearn/model_selection/_split.py:1978: FutureWarning: The default value of cv will change from 3 to 5 in version 0.22. Specify it explicitly to silence this warning.\n",
            "  warnings.warn(CV_WARNING, FutureWarning)\n"
          ],
          "name": "stderr"
        },
        {
          "output_type": "stream",
          "text": [
            "The best performing gamma value is:  0.22\n",
            "The best performing C value is:  0.99\n"
          ],
          "name": "stdout"
        }
      ]
    },
    {
      "cell_type": "markdown",
      "metadata": {
        "id": "vs0FwMg25iS5"
      },
      "source": [
        "##Apprentissage optimal avec les nouveaux hyperparametres\n",
        "\n",
        "*L'algorithme SVM*"
      ]
    },
    {
      "cell_type": "code",
      "metadata": {
        "id": "u-E8_WoN51dh",
        "outputId": "b8a81f61-19fe-4de0-dbea-868a59d855d3",
        "colab": {
          "base_uri": "https://localhost:8080/",
          "height": 356
        }
      },
      "source": [
        "# Train SVM and output predictions\n",
        "rbfSVM = SVC(kernel='rbf', C=best_C, gamma=best_gamma)\n",
        "rbfSVM.fit(X_train, y_train)\n",
        "svm_predictions = rbfSVM.predict(X_test)\n",
        "\n",
        "print(metrics.classification_report(y_test, svm_predictions))\n",
        "\n",
        "print(\"Overall Accuracy optimise:\", round(metrics.accuracy_score(y_test, svm_predictions),1))\n",
        "print(\" Overall Accuracy par defaut: \",svc_defaut)\n"
      ],
      "execution_count": null,
      "outputs": [
        {
          "output_type": "stream",
          "text": [
            "              precision    recall  f1-score   support\n",
            "\n",
            "           3       0.00      0.00      0.00         6\n",
            "           4       1.00      0.02      0.05        43\n",
            "           5       0.59      0.67      0.63       402\n",
            "           6       0.56      0.71      0.63       597\n",
            "           7       0.64      0.25      0.36       215\n",
            "           8       0.00      0.00      0.00        36\n",
            "           9       0.00      0.00      0.00         1\n",
            "\n",
            "    accuracy                           0.58      1300\n",
            "   macro avg       0.40      0.24      0.24      1300\n",
            "weighted avg       0.58      0.58      0.54      1300\n",
            "\n",
            "Overall Accuracy optimise: 0.6\n",
            " Overall Accuracy par defaut:  0.562\n"
          ],
          "name": "stdout"
        },
        {
          "output_type": "stream",
          "text": [
            "/usr/local/lib/python3.6/dist-packages/sklearn/metrics/classification.py:1437: UndefinedMetricWarning: Precision and F-score are ill-defined and being set to 0.0 in labels with no predicted samples.\n",
            "  'precision', 'predicted', average, warn_for)\n"
          ],
          "name": "stderr"
        }
      ]
    },
    {
      "cell_type": "markdown",
      "metadata": {
        "id": "rimlQrvR52NB"
      },
      "source": [
        "On remarque que la précision à augmenter mais pas suffisament par rapport à l'algorithme forets aléatoires.\n",
        "\n",
        "On vérifie avec quelques notes de vins pour l'algorithme SVM"
      ]
    },
    {
      "cell_type": "code",
      "metadata": {
        "id": "C4ntbZWi51ta",
        "outputId": "83a3fea9-7b10-49c1-8379-25d12b719f80",
        "colab": {
          "base_uri": "https://localhost:8080/",
          "height": 158
        }
      },
      "source": [
        "#converting the numpy array to list\n",
        "x=np.array(svm_predictions).tolist()\n",
        "\n",
        "#printing first 5 predictions\n",
        "print(\"\\nThe prediction SVM:\\n\")\n",
        "for i in range(0,5):\n",
        "    print (x[i])"
      ],
      "execution_count": null,
      "outputs": [
        {
          "output_type": "stream",
          "text": [
            "\n",
            "The prediction SVM:\n",
            "\n",
            "6\n",
            "5\n",
            "7\n",
            "5\n",
            "5\n"
          ],
          "name": "stdout"
        }
      ]
    },
    {
      "cell_type": "code",
      "metadata": {
        "id": "OgfM6cX6517Z",
        "outputId": "33b7d050-fb7a-4bc9-9745-cc14a9dee200",
        "colab": {
          "base_uri": "https://localhost:8080/",
          "height": 176
        }
      },
      "source": [
        "#printing first five expectations\n",
        "print(\"\\nThe expectation SVM:\\n\")\n",
        "print(y_test.head())"
      ],
      "execution_count": null,
      "outputs": [
        {
          "output_type": "stream",
          "text": [
            "\n",
            "The expectation SVM:\n",
            "\n",
            "1504    8\n",
            "1419    5\n",
            "3162    7\n",
            "3091    6\n",
            "2433    6\n",
            "Name: quality, dtype: int64\n"
          ],
          "name": "stdout"
        }
      ]
    },
    {
      "cell_type": "markdown",
      "metadata": {
        "id": "zJ4K4NfG6DQU"
      },
      "source": [
        "Pour 5 exemples, nous avons seulement 2 notes correctes Cependant avec plus d'exemples de vins notés on arrive à 57% pour l'algorithme SVM.\n",
        "\n",
        "# Conclusion\n",
        "\n",
        "\n",
        "Le meilleur algorithme pour prédire la note d'un vin pour ce jeu de données est l'algorithme Forets aléatoires. L'optimisation des hyperparametres a permis d'améliorer la precision mais pas de beaucoup.\n",
        "Ce projet a été très interéssant à réaliser car j'ai appliqué les méthodes vue en cours RCP208 et RCP209 et j'ai aussi utilisé des nouvelles bibliothèques comme Pandas. J'ai aussi utilisé R pour faire les analyse en composante principale qui est plus simple que sur python. Il serait aussi intéressant de faire une classification multi classe pour prédire la couleur du vin."
      ]
    }
  ]
}